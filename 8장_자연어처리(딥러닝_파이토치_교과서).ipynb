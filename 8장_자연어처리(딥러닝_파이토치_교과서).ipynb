{
  "nbformat": 4,
  "nbformat_minor": 0,
  "metadata": {
    "colab": {
      "provenance": [],
      "authorship_tag": "ABX9TyPGOP18pTEwmb7NcLUfY+ln",
      "include_colab_link": true
    },
    "kernelspec": {
      "name": "python3",
      "display_name": "Python 3"
    },
    "language_info": {
      "name": "python"
    }
  },
  "cells": [
    {
      "cell_type": "markdown",
      "metadata": {
        "id": "view-in-github",
        "colab_type": "text"
      },
      "source": [
        "<a href=\"https://colab.research.google.com/github/qqq3964/NLP-/blob/main/8%EC%9E%A5_%EC%9E%90%EC%97%B0%EC%96%B4%EC%B2%98%EB%A6%AC(%EB%94%A5%EB%9F%AC%EB%8B%9D_%ED%8C%8C%EC%9D%B4%ED%86%A0%EC%B9%98_%EA%B5%90%EA%B3%BC%EC%84%9C).ipynb\" target=\"_parent\"><img src=\"https://colab.research.google.com/assets/colab-badge.svg\" alt=\"Open In Colab\"/></a>"
      ]
    },
    {
      "cell_type": "markdown",
      "source": [
        "### 전처리"
      ],
      "metadata": {
        "id": "-aVgOhimgh_n"
      }
    },
    {
      "cell_type": "code",
      "execution_count": 1,
      "metadata": {
        "colab": {
          "base_uri": "https://localhost:8080/"
        },
        "id": "b2LicRnxgBa3",
        "outputId": "29d4d690-39f8-4a00-ba58-5e541da99d04"
      },
      "outputs": [
        {
          "output_type": "stream",
          "name": "stderr",
          "text": [
            "[nltk_data] Downloading package punkt to /root/nltk_data...\n",
            "[nltk_data]   Unzipping tokenizers/punkt.zip.\n"
          ]
        },
        {
          "output_type": "execute_result",
          "data": {
            "text/plain": [
              "['my', 'favorite', 'subject', 'is', 'math']"
            ]
          },
          "metadata": {},
          "execution_count": 1
        }
      ],
      "source": [
        "import nltk\n",
        "\n",
        "nltk.download('punkt')\n",
        "string1 = 'my favorite subject is math'\n",
        "string2 = 'my favorite subject is math, english, economic and copmuter science'\n",
        "nltk.word_tokenize(string1)"
      ]
    },
    {
      "cell_type": "code",
      "source": [
        "nltk.word_tokenize(string2) "
      ],
      "metadata": {
        "colab": {
          "base_uri": "https://localhost:8080/"
        },
        "id": "nnOMSjK-gZOS",
        "outputId": "59758971-d4ea-4179-8fe3-a4a268e6bd8e"
      },
      "execution_count": 3,
      "outputs": [
        {
          "output_type": "execute_result",
          "data": {
            "text/plain": [
              "['my',\n",
              " 'favorite',\n",
              " 'subject',\n",
              " 'is',\n",
              " 'math',\n",
              " ',',\n",
              " 'english',\n",
              " ',',\n",
              " 'economic',\n",
              " 'and',\n",
              " 'copmuter',\n",
              " 'science']"
            ]
          },
          "metadata": {},
          "execution_count": 3
        }
      ]
    },
    {
      "cell_type": "markdown",
      "source": [
        "### konlpy 로 한국어 전처리"
      ],
      "metadata": {
        "id": "z8DkAM85hUZA"
      }
    },
    {
      "cell_type": "code",
      "source": [
        "!sudo apt-get install g++ openjdk-11-jdk\n",
        "!sudo apt-get install python3-dev; pip3 install konlpy"
      ],
      "metadata": {
        "colab": {
          "base_uri": "https://localhost:8080/"
        },
        "id": "c7YvvvYlgfdH",
        "outputId": "c117e15e-88c2-433a-ce0b-415bfc4d5dde"
      },
      "execution_count": 4,
      "outputs": [
        {
          "output_type": "stream",
          "name": "stdout",
          "text": [
            "Reading package lists... Done\n",
            "Building dependency tree       \n",
            "Reading state information... Done\n",
            "g++ is already the newest version (4:9.3.0-1ubuntu2).\n",
            "g++ set to manually installed.\n",
            "Suggested packages:\n",
            "  openjdk-11-demo openjdk-11-source visualvm\n",
            "The following NEW packages will be installed:\n",
            "  openjdk-11-jdk\n",
            "0 upgraded, 1 newly installed, 0 to remove and 23 not upgraded.\n",
            "Need to get 1,559 kB of archives.\n",
            "After this operation, 1,624 kB of additional disk space will be used.\n",
            "Get:1 http://archive.ubuntu.com/ubuntu focal-updates/main amd64 openjdk-11-jdk amd64 11.0.18+10-0ubuntu1~20.04.1 [1,559 kB]\n",
            "Fetched 1,559 kB in 0s (5,341 kB/s)\n",
            "debconf: unable to initialize frontend: Dialog\n",
            "debconf: (No usable dialog-like program is installed, so the dialog based frontend cannot be used. at /usr/share/perl5/Debconf/FrontEnd/Dialog.pm line 76, <> line 1.)\n",
            "debconf: falling back to frontend: Readline\n",
            "debconf: unable to initialize frontend: Readline\n",
            "debconf: (This frontend requires a controlling tty.)\n",
            "debconf: falling back to frontend: Teletype\n",
            "dpkg-preconfigure: unable to re-open stdin: \n",
            "Selecting previously unselected package openjdk-11-jdk:amd64.\n",
            "(Reading database ... 128276 files and directories currently installed.)\n",
            "Preparing to unpack .../openjdk-11-jdk_11.0.18+10-0ubuntu1~20.04.1_amd64.deb ...\n",
            "Unpacking openjdk-11-jdk:amd64 (11.0.18+10-0ubuntu1~20.04.1) ...\n",
            "Setting up openjdk-11-jdk:amd64 (11.0.18+10-0ubuntu1~20.04.1) ...\n",
            "update-alternatives: using /usr/lib/jvm/java-11-openjdk-amd64/bin/jconsole to provide /usr/bin/jconsole (jconsole) in auto mode\n",
            "Reading package lists... Done\n",
            "Building dependency tree       \n",
            "Reading state information... Done\n",
            "python3-dev is already the newest version (3.8.2-0ubuntu2).\n",
            "python3-dev set to manually installed.\n",
            "0 upgraded, 0 newly installed, 0 to remove and 23 not upgraded.\n",
            "Looking in indexes: https://pypi.org/simple, https://us-python.pkg.dev/colab-wheels/public/simple/\n",
            "Collecting konlpy\n",
            "  Downloading konlpy-0.6.0-py2.py3-none-any.whl (19.4 MB)\n",
            "\u001b[2K     \u001b[90m━━━━━━━━━━━━━━━━━━━━━━━━━━━━━━━━━━━━━━━━\u001b[0m \u001b[32m19.4/19.4 MB\u001b[0m \u001b[31m45.1 MB/s\u001b[0m eta \u001b[36m0:00:00\u001b[0m\n",
            "\u001b[?25hRequirement already satisfied: numpy>=1.6 in /usr/local/lib/python3.9/dist-packages (from konlpy) (1.22.4)\n",
            "Requirement already satisfied: lxml>=4.1.0 in /usr/local/lib/python3.9/dist-packages (from konlpy) (4.9.2)\n",
            "Collecting JPype1>=0.7.0\n",
            "  Downloading JPype1-1.4.1-cp39-cp39-manylinux_2_12_x86_64.manylinux2010_x86_64.whl (465 kB)\n",
            "\u001b[2K     \u001b[90m━━━━━━━━━━━━━━━━━━━━━━━━━━━━━━━━━━━━━━\u001b[0m \u001b[32m465.3/465.3 KB\u001b[0m \u001b[31m34.4 MB/s\u001b[0m eta \u001b[36m0:00:00\u001b[0m\n",
            "\u001b[?25hRequirement already satisfied: packaging in /usr/local/lib/python3.9/dist-packages (from JPype1>=0.7.0->konlpy) (23.0)\n",
            "Installing collected packages: JPype1, konlpy\n",
            "Successfully installed JPype1-1.4.1 konlpy-0.6.0\n"
          ]
        }
      ]
    },
    {
      "cell_type": "code",
      "source": [
        "from konlpy.tag import Komoran\n",
        "komoran = Komoran()"
      ],
      "metadata": {
        "id": "kwfwR6NJhQuO"
      },
      "execution_count": 5,
      "outputs": []
    },
    {
      "cell_type": "code",
      "source": [
        "print(komoran.morphs('딥러닝이 쉽나요? 어렵나요?'))"
      ],
      "metadata": {
        "colab": {
          "base_uri": "https://localhost:8080/"
        },
        "id": "m0L92rLBhcyG",
        "outputId": "6e917df2-795f-4d81-c03c-faae4f1d00d3"
      },
      "execution_count": 6,
      "outputs": [
        {
          "output_type": "stream",
          "name": "stdout",
          "text": [
            "['딥러닝이', '쉽', '나요', '?', '어렵', '나요', '?']\n"
          ]
        }
      ]
    },
    {
      "cell_type": "code",
      "source": [
        "# 품사태깅\n",
        "print(komoran.pos('소파 위에 있는 것이 고양이인가요? 강아지인가요?'))"
      ],
      "metadata": {
        "colab": {
          "base_uri": "https://localhost:8080/"
        },
        "id": "g5oURyyUhkGW",
        "outputId": "a47bbc01-7bd5-42f6-c151-ba19b920a903"
      },
      "execution_count": 7,
      "outputs": [
        {
          "output_type": "stream",
          "name": "stdout",
          "text": [
            "[('소파', 'NNP'), ('위', 'NNG'), ('에', 'JKB'), ('있', 'VV'), ('는', 'ETM'), ('것', 'NNB'), ('이', 'JKS'), ('고양이', 'NNG'), ('이', 'VCP'), ('ㄴ가요', 'EF'), ('?', 'SF'), ('강아지', 'NNG'), ('이', 'VCP'), ('ㄴ가요', 'EF'), ('?', 'SF')]\n"
          ]
        }
      ]
    },
    {
      "cell_type": "code",
      "source": [
        "!git clone https://github.com/e9t/nsmc.git"
      ],
      "metadata": {
        "colab": {
          "base_uri": "https://localhost:8080/"
        },
        "id": "dOiwChGBhrOO",
        "outputId": "0fa7357d-6edc-41ec-d74a-39b106d19fb0"
      },
      "execution_count": 8,
      "outputs": [
        {
          "output_type": "stream",
          "name": "stdout",
          "text": [
            "Cloning into 'nsmc'...\n",
            "remote: Enumerating objects: 14763, done.\u001b[K\n",
            "remote: Total 14763 (delta 0), reused 0 (delta 0), pack-reused 14763\u001b[K\n",
            "Receiving objects: 100% (14763/14763), 56.19 MiB | 18.79 MiB/s, done.\n",
            "Resolving deltas: 100% (1749/1749), done.\n",
            "Updating files: 100% (14737/14737), done.\n"
          ]
        }
      ]
    },
    {
      "cell_type": "code",
      "source": [
        "import csv\n",
        "from konlpy.tag import Okt\n",
        "from gensim.models import word2vec\n",
        "\n",
        "f = open('/content/nsmc/ratings_train.txt','r',encoding='utf-8')\n",
        "rdr = csv.reader(f,delimiter='\\t')\n",
        "rdw = list(rdr)\n",
        "f.close()"
      ],
      "metadata": {
        "id": "3nOuVguoikfv"
      },
      "execution_count": 20,
      "outputs": []
    },
    {
      "cell_type": "code",
      "source": [
        "# 오픈소스 한글 형태소 분석기 호출\n",
        "from tqdm import tqdm\n",
        "twitter = Okt()\n",
        "\n",
        "result = []\n",
        "\n",
        "for line in tqdm(rdw):\n",
        "  malist = twitter.pos(line[1],norm=True,stem=True)\n",
        "  r = []\n",
        "  for word in malist:\n",
        "    # stopwords 제거 word[0] is word, word[1] is 품사 \n",
        "    if not word[1] in [\"Josa\",\"Eomi\",\"Punctuation\"]:\n",
        "      r.append(word[0])\n",
        "  r1 = (\" \".join(r)).strip()\n",
        "  result.append(r1)"
      ],
      "metadata": {
        "colab": {
          "base_uri": "https://localhost:8080/"
        },
        "id": "M5IDnoymixIG",
        "outputId": "b6fc3c80-1b4e-4a00-92e7-9ed55ff32a53"
      },
      "execution_count": 31,
      "outputs": [
        {
          "output_type": "stream",
          "name": "stderr",
          "text": [
            "100%|██████████| 150001/150001 [13:07<00:00, 190.46it/s]\n"
          ]
        }
      ]
    },
    {
      "cell_type": "code",
      "source": [
        "# result는 불용어를 제외한 나머지 의미있는 단어들을 ' ' 기준으로 만들어 놓았다.\n",
        "print(result[:5])"
      ],
      "metadata": {
        "colab": {
          "base_uri": "https://localhost:8080/"
        },
        "id": "QJbV623htbQ_",
        "outputId": "49647ddd-5919-4eb3-c352-f34279b420e3"
      },
      "execution_count": 36,
      "outputs": [
        {
          "output_type": "stream",
          "name": "stdout",
          "text": [
            "['document', '아 더빙 진짜 짜증나다 목소리', '흠 포스터 보고 초딩 영화 줄 오버 연기 가볍다 않다', '너 무재 밓었 다그 래서 보다 추천 다', '교도소 이야기 구먼 솔직하다 재미 없다 평점 조정']\n"
          ]
        }
      ]
    },
    {
      "cell_type": "code",
      "source": [
        "with open('NaverMovie.nlp','w',encoding='utf-8') as fp:\n",
        "  fp.write('\\n'.join(result))"
      ],
      "metadata": {
        "id": "f2Da8wudktEW"
      },
      "execution_count": 32,
      "outputs": []
    },
    {
      "cell_type": "code",
      "source": [
        "from gensim.models import Word2Vec\n",
        "'''\n",
        "LineSentence은 gensim 패키지에서 제공하는 클래스 중 하나로, \n",
        "텍스트 파일을 한 줄씩 읽어서 각 줄에 있는 단어들을 리스트로 반환해주는 역할을 합니다.\n",
        "'''\n",
        "mData = word2vec.LineSentence(\"NaverMovie.nlp\")\n",
        "mModel = word2vec.Word2Vec(sentences=mData,size=100,window=10,hs=1,min_count=2,sg=1)\n",
        "mModel.save('NaverMovie.model')"
      ],
      "metadata": {
        "id": "9BvZK6OEs5UL"
      },
      "execution_count": 50,
      "outputs": []
    },
    {
      "cell_type": "code",
      "source": [
        "model = Word2Vec.load(\"/content/NaverMovie.model\")"
      ],
      "metadata": {
        "id": "iT-wuUTMtKJt"
      },
      "execution_count": 51,
      "outputs": []
    },
    {
      "cell_type": "code",
      "source": [
        "model.wv.most_similar('더빙')"
      ],
      "metadata": {
        "colab": {
          "base_uri": "https://localhost:8080/"
        },
        "id": "Cc_mDyletLdi",
        "outputId": "8468e476-84c5-49e1-ae28-76f72586a3f8"
      },
      "execution_count": 52,
      "outputs": [
        {
          "output_type": "execute_result",
          "data": {
            "text/plain": [
              "[('성우', 0.8672624826431274),\n",
              " ('연예인', 0.7933328151702881),\n",
              " ('유행어', 0.7667208313941956),\n",
              " ('문성우', 0.7538083791732788),\n",
              " ('우리말', 0.7396552562713623),\n",
              " ('오딘', 0.7246542572975159),\n",
              " ('김원효', 0.7220051288604736),\n",
              " ('개그맨', 0.7164551019668579),\n",
              " ('메리다', 0.7122582793235779),\n",
              " ('최효종', 0.7108890414237976)]"
            ]
          },
          "metadata": {},
          "execution_count": 52
        }
      ]
    }
  ]
}